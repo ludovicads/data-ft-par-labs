{
 "cells": [
  {
   "cell_type": "markdown",
   "metadata": {},
   "source": [
    "# BACK MARKET: ORDINATEUR RECONDITIONNE"
   ]
  },
  {
   "cell_type": "markdown",
   "metadata": {},
   "source": [
    "## Web Scraping & DataFrame"
   ]
  },
  {
   "cell_type": "code",
   "execution_count": 3,
   "metadata": {},
   "outputs": [],
   "source": [
    "import requests as r\n",
    "import pandas as pd\n",
    "import json\n",
    "import time"
   ]
  },
  {
   "cell_type": "code",
   "execution_count": 2,
   "metadata": {},
   "outputs": [],
   "source": [
    "# url='https://9x8zudunn9-dsn.algolia.net/1/indexes/*/queries?x-algolia-agent=Algolia%20for%20JavaScript%20(4.8.0)%3B%20Browser%20(lite)%3B%20JS%20Helper%20(3.3.2)&x-algolia-api-key=38f3a5eacb0bd01a763275f972706859&x-algolia-application-id=9X8ZUDUNN9'"
   ]
  },
  {
   "cell_type": "markdown",
   "metadata": {},
   "source": [
    "headers=\"\"\"Accept: */*\n",
    "Accept-Encoding: gzip, deflate, br\n",
    "Accept-Language: it-IT,it;q=0.9,fr-FR;q=0.8,fr;q=0.7,en-US;q=0.6,en;q=0.5\n",
    "Cache-Control: no-cache\n",
    "Connection: keep-alive\n",
    "Content-Length: 4696\n",
    "content-type: application/x-www-form-urlencoded\n",
    "Host: 9x8zudunn9-dsn.algolia.net\n",
    "Origin: https://www.backmarket.fr\n",
    "Pragma: no-cache\n",
    "Referer: https://www.backmarket.fr/\n",
    "Sec-Fetch-Dest: empty\n",
    "Sec-Fetch-Mode: cors\n",
    "Sec-Fetch-Site: cross-site\n",
    "User-Agent: Mozilla/5.0 (Macintosh; Intel Mac OS X 10_15_7) AppleWebKit/537.36 (KHTML, like Gecko) Chrome/86.0.4240.198 Safari/537.36\"\"\"\n"
   ]
  },
  {
   "cell_type": "code",
   "execution_count": 5,
   "metadata": {},
   "outputs": [],
   "source": [
    "# headers=dict([i.split(': ') for i in headers.split('\\n')])"
   ]
  },
  {
   "cell_type": "code",
   "execution_count": 6,
   "metadata": {},
   "outputs": [],
   "source": [
    "# data=\"\"\"{\"requests\":[{\"indexName\":\"prod_index_starting_from\",\"params\":\"hitsPerPage=30&facetingAfterDistinct=true&attributesToRetrieve=%5B%22objectID%22%2C%22backmarketID%22%2C%22link%22%2C%22price%22%2C%22price_with_currency%22%2C%22price_new%22%2C%22price_new_with_currency%22%2C%22warranty%22%2C%22title%22%2C%22slug%22%2C%22merchant_slug%22%2C%22sub_title%22%2C%22state_label%22%2C%22state_value%22%2C%22image1%22%2C%22compatible_carriers%22%2C%22is_sim_locked%22%2C%22list_view%22%2C%22nb_results_starting_from%22%2C%22stockRaw%22%2C%22pressureStockLimit%22%5D&page=1&facets=%5B%22category_3%22%2C%22screen_size%22%2C%22brand%22%2C%22processor_type%22%2C%22keyboard_type%22%2C%22memory%22%2C%22os%22%2C%22storage_type%22%2C%22states_list%22%2C%22model%22%2C%22storage%22%2C%22graphic_card%22%2C%22payment_methods%22%2C%22warranty_with_unit%22%2C%22shipping_delay%22%2C%22shipping_free%22%2C%22price_ranges.sm-1%22%2C%22price_ranges.sm-2%22%2C%22price_ranges.md-1%22%2C%22price_ranges.md-1b%22%2C%22price_ranges.md-1c%22%2C%22price_ranges.md-2%22%2C%22price_ranges.lg-1%22%2C%22price_ranges.lg-2%22%2C%22price_ranges.lg-3%22%2C%22price%22%2C%22cat_id%22%5D&tagFilters=&facetFilters=%5B%5B%22cat_id%3A7%22%2C%22cat_id%3A9%22%2C%22cat_id%3A11%22%2C%22cat_id%3A12%22%2C%22cat_id%3A109%22%2C%22cat_id%3A110%22%2C%22cat_id%3A111%22%2C%22cat_id%3A112%22%2C%22cat_id%3A113%22%2C%22cat_id%3A114%22%2C%22cat_id%3A115%22%2C%22cat_id%3A116%22%2C%22cat_id%3A117%22%5D%5D&numericFilters=%5B%5B%22buybox%3D2%22%5D%2C%5B%22publication_state%3D2%22%5D%2C%5B%22special_offer_type%3D0%22%5D%5D\"},{\"indexName\":\"prod_index_starting_from\",\"params\":\"hitsPerPage=1&facetingAfterDistinct=true&attributesToRetrieve=%5B%22objectID%22%2C%22backmarketID%22%2C%22link%22%2C%22price%22%2C%22price_with_currency%22%2C%22price_new%22%2C%22price_new_with_currency%22%2C%22warranty%22%2C%22title%22%2C%22slug%22%2C%22merchant_slug%22%2C%22sub_title%22%2C%22state_label%22%2C%22state_value%22%2C%22image1%22%2C%22compatible_carriers%22%2C%22is_sim_locked%22%2C%22list_view%22%2C%22nb_results_starting_from%22%2C%22stockRaw%22%2C%22pressureStockLimit%22%5D&page=0&attributesToHighlight=%5B%5D&attributesToSnippet=%5B%5D&tagFilters=&analytics=false&clickAnalytics=false&facets=cat_id&numericFilters=%5B%5B%22buybox%3D2%22%5D%2C%5B%22publication_state%3D2%22%5D%2C%5B%22special_offer_type%3D0%22%5D%5D\"},{\"indexName\":\"prod_index_starting_from\",\"params\":\"hitsPerPage=30&facetingAfterDistinct=true&attributesToRetrieve=%5B%22objectID%22%2C%22backmarketID%22%2C%22link%22%2C%22price%22%2C%22price_with_currency%22%2C%22price_new%22%2C%22price_new_with_currency%22%2C%22warranty%22%2C%22title%22%2C%22slug%22%2C%22merchant_slug%22%2C%22sub_title%22%2C%22state_label%22%2C%22state_value%22%2C%22image1%22%2C%22compatible_carriers%22%2C%22is_sim_locked%22%2C%22list_view%22%2C%22nb_results_starting_from%22%2C%22stockRaw%22%2C%22pressureStockLimit%22%5D&page=1&facets=%5B%22category_3%22%2C%22screen_size%22%2C%22brand%22%2C%22processor_type%22%2C%22keyboard_type%22%2C%22memory%22%2C%22os%22%2C%22storage_type%22%2C%22states_list%22%2C%22model%22%2C%22storage%22%2C%22graphic_card%22%2C%22payment_methods%22%2C%22warranty_with_unit%22%2C%22shipping_delay%22%2C%22shipping_free%22%2C%22price_ranges.sm-1%22%2C%22price_ranges.sm-2%22%2C%22price_ranges.md-1%22%2C%22price_ranges.md-1b%22%2C%22price_ranges.md-1c%22%2C%22price_ranges.md-2%22%2C%22price_ranges.lg-1%22%2C%22price_ranges.lg-2%22%2C%22price_ranges.lg-3%22%2C%22cat_id%22%5D&tagFilters=&facetFilters=%5B%5B%22cat_id%3A7%22%2C%22cat_id%3A9%22%2C%22cat_id%3A11%22%2C%22cat_id%3A12%22%2C%22cat_id%3A109%22%2C%22cat_id%3A110%22%2C%22cat_id%3A111%22%2C%22cat_id%3A112%22%2C%22cat_id%3A113%22%2C%22cat_id%3A114%22%2C%22cat_id%3A115%22%2C%22cat_id%3A116%22%2C%22cat_id%3A117%22%5D%5D&numericFilters=%5B%5B%22buybox%3D2%22%5D%2C%5B%22publication_state%3D2%22%5D%2C%5B%22special_offer_type%3D0%22%5D%5D\"},{\"indexName\":\"prod_index_starting_from\",\"params\":\"hitsPerPage=1&facetingAfterDistinct=true&attributesToRetrieve=%5B%22objectID%22%2C%22backmarketID%22%2C%22link%22%2C%22price%22%2C%22price_with_currency%22%2C%22price_new%22%2C%22price_new_with_currency%22%2C%22warranty%22%2C%22title%22%2C%22slug%22%2C%22merchant_slug%22%2C%22sub_title%22%2C%22state_label%22%2C%22state_value%22%2C%22image1%22%2C%22compatible_carriers%22%2C%22is_sim_locked%22%2C%22list_view%22%2C%22nb_results_starting_from%22%2C%22stockRaw%22%2C%22pressureStockLimit%22%5D&page=0&attributesToHighlight=%5B%5D&attributesToSnippet=%5B%5D&tagFilters=&analytics=false&clickAnalytics=false&facets=cat_id&numericFilters=%5B%5B%22buybox%3D2%22%5D%2C%5B%22publication_state%3D2%22%5D%2C%5B%22special_offer_type%3D0%22%5D%5D\"}]}\"\"\""
   ]
  },
  {
   "cell_type": "code",
   "execution_count": 6,
   "metadata": {},
   "outputs": [],
   "source": [
    "#response=r.post(url,headers=headers, data=data)"
   ]
  },
  {
   "cell_type": "code",
   "execution_count": null,
   "metadata": {},
   "outputs": [],
   "source": [
    "#back=response.json() # convert the response from code to json file back"
   ]
  },
  {
   "cell_type": "code",
   "execution_count": 37,
   "metadata": {},
   "outputs": [],
   "source": [
    "# back.keys()"
   ]
  },
  {
   "cell_type": "code",
   "execution_count": 38,
   "metadata": {},
   "outputs": [],
   "source": [
    "# back['results'][0]['hits'][0]['link']['params']['slug']"
   ]
  },
  {
   "cell_type": "code",
   "execution_count": 39,
   "metadata": {},
   "outputs": [],
   "source": [
    "# df=pd.json_normalize(back['results'][0]['hits'])\n"
   ]
  },
  {
   "cell_type": "code",
   "execution_count": 9,
   "metadata": {},
   "outputs": [],
   "source": [
    "headers=\"\"\"Accept: */*\n",
    "Accept-Encoding: gzip, deflate, br\n",
    "Accept-Language: it-IT,it;q=0.9,fr-FR;q=0.8,fr;q=0.7,en-US;q=0.6,en;q=0.5\n",
    "Cache-Control: no-cache\n",
    "Connection: keep-alive\n",
    "Content-Length: 4696\n",
    "content-type: application/x-www-form-urlencoded\n",
    "Host: 9x8zudunn9-dsn.algolia.net\n",
    "Origin: https://www.backmarket.fr\n",
    "Pragma: no-cache\n",
    "Referer: https://www.backmarket.fr/\n",
    "Sec-Fetch-Dest: empty\n",
    "Sec-Fetch-Mode: cors\n",
    "Sec-Fetch-Site: cross-site\n",
    "User-Agent: Mozilla/5.0 (Macintosh; Intel Mac OS X 10_15_7) AppleWebKit/537.36 (KHTML, like Gecko) Chrome/86.0.4240.198 Safari/537.36\"\"\"\n",
    "\n",
    "headers=dict([i.split(': ') for i in headers.split('\\n')]) \n"
   ]
  },
  {
   "cell_type": "code",
   "execution_count": 7,
   "metadata": {},
   "outputs": [],
   "source": [
    "data='''{\"requests\":[{\"indexName\":\"prod_index_starting_from\",\"params\":\"hitsPerPage=30&facetingAfterDistinct=true&attributesToRetrieve=%5B%22objectID%22%2C%22backmarketID%22%2C%22link%22%2C%22price%22%2C%22price_with_currency%22%2C%22price_new%22%2C%22price_new_with_currency%22%2C%22warranty%22%2C%22title%22%2C%22slug%22%2C%22merchant_slug%22%2C%22sub_title%22%2C%22state_label%22%2C%22state_value%22%2C%22image1%22%2C%22compatible_carriers%22%2C%22is_sim_locked%22%2C%22list_view%22%2C%22nb_results_starting_from%22%2C%22stockRaw%22%2C%22pressureStockLimit%22%5D&page=1&facets=%5B%22category_3%22%2C%22screen_size%22%2C%22brand%22%2C%22processor_type%22%2C%22keyboard_type%22%2C%22memory%22%2C%22os%22%2C%22storage_type%22%2C%22states_list%22%2C%22model%22%2C%22storage%22%2C%22graphic_card%22%2C%22payment_methods%22%2C%22warranty_with_unit%22%2C%22shipping_delay%22%2C%22shipping_free%22%2C%22price_ranges.sm-1%22%2C%22price_ranges.sm-2%22%2C%22price_ranges.md-1%22%2C%22price_ranges.md-1b%22%2C%22price_ranges.md-1c%22%2C%22price_ranges.md-2%22%2C%22price_ranges.lg-1%22%2C%22price_ranges.lg-2%22%2C%22price_ranges.lg-3%22%2C%22price%22%2C%22cat_id%22%5D&tagFilters=&facetFilters=%5B%5B%22cat_id%3A7%22%2C%22cat_id%3A9%22%2C%22cat_id%3A11%22%2C%22cat_id%3A12%22%2C%22cat_id%3A109%22%2C%22cat_id%3A110%22%2C%22cat_id%3A111%22%2C%22cat_id%3A112%22%2C%22cat_id%3A113%22%2C%22cat_id%3A114%22%2C%22cat_id%3A115%22%2C%22cat_id%3A116%22%2C%22cat_id%3A117%22%5D%5D&numericFilters=%5B%5B%22buybox%3D2%22%5D%2C%5B%22publication_state%3D2%22%5D%2C%5B%22special_offer_type%3D0%22%5D%5D\"},{\"indexName\":\"prod_index_starting_from\",\"params\":\"hitsPerPage=1&facetingAfterDistinct=true&attributesToRetrieve=%5B%22objectID%22%2C%22backmarketID%22%2C%22link%22%2C%22price%22%2C%22price_with_currency%22%2C%22price_new%22%2C%22price_new_with_currency%22%2C%22warranty%22%2C%22title%22%2C%22slug%22%2C%22merchant_slug%22%2C%22sub_title%22%2C%22state_label%22%2C%22state_value%22%2C%22image1%22%2C%22compatible_carriers%22%2C%22is_sim_locked%22%2C%22list_view%22%2C%22nb_results_starting_from%22%2C%22stockRaw%22%2C%22pressureStockLimit%22%5D&page=0&attributesToHighlight=%5B%5D&attributesToSnippet=%5B%5D&tagFilters=&analytics=false&clickAnalytics=false&facets=cat_id&numericFilters=%5B%5B%22buybox%3D2%22%5D%2C%5B%22publication_state%3D2%22%5D%2C%5B%22special_offer_type%3D0%22%5D%5D\"},{\"indexName\":\"prod_index_starting_from\",\"params\":\"hitsPerPage=30&facetingAfterDistinct=true&attributesToRetrieve=%5B%22objectID%22%2C%22backmarketID%22%2C%22link%22%2C%22price%22%2C%22price_with_currency%22%2C%22price_new%22%2C%22price_new_with_currency%22%2C%22warranty%22%2C%22title%22%2C%22slug%22%2C%22merchant_slug%22%2C%22sub_title%22%2C%22state_label%22%2C%22state_value%22%2C%22image1%22%2C%22compatible_carriers%22%2C%22is_sim_locked%22%2C%22list_view%22%2C%22nb_results_starting_from%22%2C%22stockRaw%22%2C%22pressureStockLimit%22%5D&page=1&facets=%5B%22category_3%22%2C%22screen_size%22%2C%22brand%22%2C%22processor_type%22%2C%22keyboard_type%22%2C%22memory%22%2C%22os%22%2C%22storage_type%22%2C%22states_list%22%2C%22model%22%2C%22storage%22%2C%22graphic_card%22%2C%22payment_methods%22%2C%22warranty_with_unit%22%2C%22shipping_delay%22%2C%22shipping_free%22%2C%22price_ranges.sm-1%22%2C%22price_ranges.sm-2%22%2C%22price_ranges.md-1%22%2C%22price_ranges.md-1b%22%2C%22price_ranges.md-1c%22%2C%22price_ranges.md-2%22%2C%22price_ranges.lg-1%22%2C%22price_ranges.lg-2%22%2C%22price_ranges.lg-3%22%2C%22cat_id%22%5D&tagFilters=&facetFilters=%5B%5B%22cat_id%3A7%22%2C%22cat_id%3A9%22%2C%22cat_id%3A11%22%2C%22cat_id%3A12%22%2C%22cat_id%3A109%22%2C%22cat_id%3A110%22%2C%22cat_id%3A111%22%2C%22cat_id%3A112%22%2C%22cat_id%3A113%22%2C%22cat_id%3A114%22%2C%22cat_id%3A115%22%2C%22cat_id%3A116%22%2C%22cat_id%3A117%22%5D%5D&numericFilters=%5B%5B%22buybox%3D2%22%5D%2C%5B%22publication_state%3D2%22%5D%2C%5B%22special_offer_type%3D0%22%5D%5D\"},{\"indexName\":\"prod_index_starting_from\",\"params\":\"hitsPerPage=1&facetingAfterDistinct=true&attributesToRetrieve=%5B%22objectID%22%2C%22backmarketID%22%2C%22link%22%2C%22price%22%2C%22price_with_currency%22%2C%22price_new%22%2C%22price_new_with_currency%22%2C%22warranty%22%2C%22title%22%2C%22slug%22%2C%22merchant_slug%22%2C%22sub_title%22%2C%22state_label%22%2C%22state_value%22%2C%22image1%22%2C%22compatible_carriers%22%2C%22is_sim_locked%22%2C%22list_view%22%2C%22nb_results_starting_from%22%2C%22stockRaw%22%2C%22pressureStockLimit%22%5D&page=0&attributesToHighlight=%5B%5D&attributesToSnippet=%5B%5D&tagFilters=&analytics=false&clickAnalytics=false&facets=cat_id&numericFilters=%5B%5B%22buybox%3D2%22%5D%2C%5B%22publication_state%3D2%22%5D%2C%5B%22special_offer_type%3D0%22%5D%5D\"}]}'''"
   ]
  },
  {
   "cell_type": "code",
   "execution_count": 8,
   "metadata": {},
   "outputs": [
    {
     "name": "stdout",
     "output_type": "stream",
     "text": [
      "page number 1 is done!\n",
      "page number 2 is done!\n",
      "page number 3 is done!\n",
      "page number 4 is done!\n",
      "page number 5 is done!\n",
      "page number 6 is done!\n",
      "page number 7 is done!\n",
      "page number 8 is done!\n",
      "page number 9 is done!\n"
     ]
    }
   ],
   "source": [
    "df_final=pd.DataFrame()\n",
    "for i in range(1,10):\n",
    "    url='https://9x8zudunn9-dsn.algolia.net/1/indexes/*/queries?x-algolia-agent=Algolia%20for%20JavaScript%20(4.8.0)%3B%20Browser%20(lite)%3B%20JS%20Helper%20(3.3.2)&x-algolia-api-key=38f3a5eacb0bd01a763275f972706859&x-algolia-application-id=9X8ZUDUNN9'\n",
    "    data='{\"requests\":[{\"indexName\":\"prod_index_starting_from\",\"params\":\"hitsPerPage=30&facetingAfterDistinct=true&attributesToRetrieve=%5B%22objectID%22%2C%22backmarketID%22%2C%22link%22%2C%22price%22%2C%22price_with_currency%22%2C%22price_new%22%2C%22price_new_with_currency%22%2C%22warranty%22%2C%22title%22%2C%22slug%22%2C%22merchant_slug%22%2C%22sub_title%22%2C%22state_label%22%2C%22state_value%22%2C%22image1%22%2C%22compatible_carriers%22%2C%22is_sim_locked%22%2C%22list_view%22%2C%22nb_results_starting_from%22%2C%22stockRaw%22%2C%22pressureStockLimit%22%5D&page=0&facets=%5B%22category_3%22%2C%22screen_size%22%2C%22brand%22%2C%22processor_type%22%2C%22keyboard_type%22%2C%22memory%22%2C%22os%22%2C%22storage_type%22%2C%22states_list%22%2C%22model%22%2C%22storage%22%2C%22graphic_card%22%2C%22payment_methods%22%2C%22warranty_with_unit%22%2C%22shipping_delay%22%2C%22shipping_free%22%2C%22price_ranges.sm-1%22%2C%22price_ranges.sm-2%22%2C%22price_ranges.md-1%22%2C%22price_ranges.md-1b%22%2C%22price_ranges.md-1c%22%2C%22price_ranges.md-2%22%2C%22price_ranges.lg-1%22%2C%22price_ranges.lg-2%22%2C%22price_ranges.lg-3%22%2C%22price%22%2C%22cat_id%22%5D&tagFilters=&facetFilters=%5B%5B%22cat_id%3A7%22%2C%22cat_id%3A9%22%2C%22cat_id%3A11%22%2C%22cat_id%3A12%22%2C%22cat_id%3A109%22%2C%22cat_id%3A110%22%2C%22cat_id%3A111%22%2C%22cat_id%3A112%22%2C%22cat_id%3A113%22%2C%22cat_id%3A114%22%2C%22cat_id%3A115%22%2C%22cat_id%3A116%22%2C%22cat_id%3A117%22%5D%5D&numericFilters=%5B%5B%22buybox%3D2%22%5D%2C%5B%22publication_state%3D2%22%5D%2C%5B%22special_offer_type%3D0%22%5D%5D\"},{\"indexName\":\"prod_index_starting_from\",\"params\":\"hitsPerPage=1&facetingAfterDistinct=true&attributesToRetrieve=%5B%22objectID%22%2C%22backmarketID%22%2C%22link%22%2C%22price%22%2C%22price_with_currency%22%2C%22price_new%22%2C%22price_new_with_currency%22%2C%22warranty%22%2C%22title%22%2C%22slug%22%2C%22merchant_slug%22%2C%22sub_title%22%2C%22state_label%22%2C%22state_value%22%2C%22image1%22%2C%22compatible_carriers%22%2C%22is_sim_locked%22%2C%22list_view%22%2C%22nb_results_starting_from%22%2C%22stockRaw%22%2C%22pressureStockLimit%22%5D&page=0&attributesToHighlight=%5B%5D&attributesToSnippet=%5B%5D&tagFilters=&analytics=false&clickAnalytics=false&facets=cat_id&numericFilters=%5B%5B%22buybox%3D2%22%5D%2C%5B%22publication_state%3D2%22%5D%2C%5B%22special_offer_type%3D0%22%5D%5D\"},{\"indexName\":\"prod_index_starting_from\",\"params\":\"hitsPerPage=30&facetingAfterDistinct=true&attributesToRetrieve=%5B%22objectID%22%2C%22backmarketID%22%2C%22link%22%2C%22price%22%2C%22price_with_currency%22%2C%22price_new%22%2C%22price_new_with_currency%22%2C%22warranty%22%2C%22title%22%2C%22slug%22%2C%22merchant_slug%22%2C%22sub_title%22%2C%22state_label%22%2C%22state_value%22%2C%22image1%22%2C%22compatible_carriers%22%2C%22is_sim_locked%22%2C%22list_view%22%2C%22nb_results_starting_from%22%2C%22stockRaw%22%2C%22pressureStockLimit%22%5D&page=1&facets=%5B%22category_3%22%2C%22screen_size%22%2C%22brand%22%2C%22processor_type%22%2C%22keyboard_type%22%2C%22memory%22%2C%22os%22%2C%22storage_type%22%2C%22states_list%22%2C%22model%22%2C%22storage%22%2C%22graphic_card%22%2C%22payment_methods%22%2C%22warranty_with_unit%22%2C%22shipping_delay%22%2C%22shipping_free%22%2C%22price_ranges.sm-1%22%2C%22price_ranges.sm-2%22%2C%22price_ranges.md-1%22%2C%22price_ranges.md-1b%22%2C%22price_ranges.md-1c%22%2C%22price_ranges.md-2%22%2C%22price_ranges.lg-1%22%2C%22price_ranges.lg-2%22%2C%22price_ranges.lg-3%22%2C%22cat_id%22%5D&tagFilters=&facetFilters=%5B%5B%22cat_id%3A7%22%2C%22cat_id%3A9%22%2C%22cat_id%3A11%22%2C%22cat_id%3A12%22%2C%22cat_id%3A109%22%2C%22cat_id%3A110%22%2C%22cat_id%3A111%22%2C%22cat_id%3A112%22%2C%22cat_id%3A113%22%2C%22cat_id%3A114%22%2C%22cat_id%3A115%22%2C%22cat_id%3A116%22%2C%22cat_id%3A117%22%5D%5D&numericFilters=%5B%5B%22buybox%3D2%22%5D%2C%5B%22publication_state%3D2%22%5D%2C%5B%22special_offer_type%3D0%22%5D%5D\"},{\"indexName\":\"prod_index_starting_from\",\"params\":\"hitsPerPage=1&facetingAfterDistinct=true&attributesToRetrieve=%5B%22objectID%22%2C%22backmarketID%22%2C%22link%22%2C%22price%22%2C%22price_with_currency%22%2C%22price_new%22%2C%22price_new_with_currency%22%2C%22warranty%22%2C%22title%22%2C%22slug%22%2C%22merchant_slug%22%2C%22sub_title%22%2C%22state_label%22%2C%22state_value%22%2C%22image1%22%2C%22compatible_carriers%22%2C%22is_sim_locked%22%2C%22list_view%22%2C%22nb_results_starting_from%22%2C%22stockRaw%22%2C%22pressureStockLimit%22%5D&page=0&attributesToHighlight=%5B%5D&attributesToSnippet=%5B%5D&tagFilters=&analytics=false&clickAnalytics=false&facets=cat_id&numericFilters=%5B%5B%22buybox%3D2%22%5D%2C%5B%22publication_state%3D2%22%5D%2C%5B%22special_offer_type%3D0%22%5D%5D\"}]}'\n",
    "    data = data.replace(\"page=0\", f\"page={i}\")\n",
    "    response=r.post(url, headers=headers, data=data)\n",
    "    back=response.json()\n",
    "    df=pd.json_normalize(back['results'][0]['hits'])\n",
    "    df_final=df_final.append(df)\n",
    "    print('page number',i,'is done!')\n",
    "    if i%5==0:\n",
    "        time.sleep(2)"
   ]
  },
  {
   "cell_type": "code",
   "execution_count": 117,
   "metadata": {},
   "outputs": [
    {
     "data": {
      "text/plain": [
       "dict"
      ]
     },
     "execution_count": 117,
     "metadata": {},
     "output_type": "execute_result"
    }
   ],
   "source": [
    "#type(response.json())"
   ]
  },
  {
   "cell_type": "code",
   "execution_count": 112,
   "metadata": {},
   "outputs": [
    {
     "data": {
      "text/plain": [
       "True"
      ]
     },
     "execution_count": 112,
     "metadata": {},
     "output_type": "execute_result"
    }
   ],
   "source": [
    "#response.text.find(\"paginationLimitedTo\")>1"
   ]
  },
  {
   "cell_type": "markdown",
   "metadata": {},
   "source": [
    "# Data Cleaning"
   ]
  },
  {
   "cell_type": "code",
   "execution_count": null,
   "metadata": {},
   "outputs": [],
   "source": [
    "df_final.info()"
   ]
  },
  {
   "cell_type": "code",
   "execution_count": 109,
   "metadata": {},
   "outputs": [
    {
     "data": {
      "text/plain": [
       "(270, 43)"
      ]
     },
     "execution_count": 109,
     "metadata": {},
     "output_type": "execute_result"
    }
   ],
   "source": [
    "df_final.shape"
   ]
  },
  {
   "cell_type": "code",
   "execution_count": 110,
   "metadata": {},
   "outputs": [
    {
     "data": {
      "text/plain": [
       "Index(['backmarketID', 'price_with_currency', 'price', 'stockRaw',\n",
       "       'pressureStockLimit', 'warranty', 'slug', 'state_value', 'state_label',\n",
       "       'compatible_carriers', 'is_sim_locked', 'title', 'price_new',\n",
       "       'price_new_with_currency', 'merchant_slug', 'image1', 'objectID',\n",
       "       'link.type', 'link.name', 'link.params.id', 'link.params.slug',\n",
       "       'link.hash.l', 'list_view.brand', 'list_view.warranty',\n",
       "       'list_view.screen_size', 'list_view.storage', 'list_view.storage_type',\n",
       "       'list_view.memory', 'list_view.model', 'list_view.processor_speed',\n",
       "       'list_view.processor_type', 'list_view.date_release',\n",
       "       'list_view.keyboard_type_language', '_highlightResult.title.value',\n",
       "       '_highlightResult.title.matchLevel',\n",
       "       '_highlightResult.title.matchedWords', '_highlightResult.brand.value',\n",
       "       '_highlightResult.brand.matchLevel',\n",
       "       '_highlightResult.brand.matchedWords',\n",
       "       '_highlightResult.category_3.value',\n",
       "       '_highlightResult.category_3.matchLevel',\n",
       "       '_highlightResult.category_3.matchedWords', 'list_view'],\n",
       "      dtype='object')"
      ]
     },
     "execution_count": 110,
     "metadata": {},
     "output_type": "execute_result"
    }
   ],
   "source": [
    "df.columns"
   ]
  },
  {
   "cell_type": "code",
   "execution_count": 9,
   "metadata": {},
   "outputs": [
    {
     "name": "stdout",
     "output_type": "stream",
     "text": [
      "<class 'pandas.core.frame.DataFrame'>\n",
      "Int64Index: 270 entries, 0 to 29\n",
      "Data columns (total 43 columns):\n",
      " #   Column                                    Non-Null Count  Dtype  \n",
      "---  ------                                    --------------  -----  \n",
      " 0   backmarketID                              270 non-null    int64  \n",
      " 1   price_with_currency                       270 non-null    object \n",
      " 2   price                                     270 non-null    float64\n",
      " 3   stockRaw                                  270 non-null    int64  \n",
      " 4   pressureStockLimit                        270 non-null    int64  \n",
      " 5   warranty                                  270 non-null    int64  \n",
      " 6   slug                                      270 non-null    object \n",
      " 7   state_value                               270 non-null    int64  \n",
      " 8   state_label                               270 non-null    object \n",
      " 9   compatible_carriers                       270 non-null    object \n",
      " 10  is_sim_locked                             270 non-null    bool   \n",
      " 11  title                                     270 non-null    object \n",
      " 12  price_new                                 270 non-null    float64\n",
      " 13  price_new_with_currency                   270 non-null    object \n",
      " 14  merchant_slug                             270 non-null    object \n",
      " 15  image1                                    270 non-null    object \n",
      " 16  objectID                                  270 non-null    object \n",
      " 17  link.type                                 270 non-null    object \n",
      " 18  link.name                                 270 non-null    object \n",
      " 19  link.params.id                            270 non-null    object \n",
      " 20  link.params.slug                          270 non-null    object \n",
      " 21  link.hash.l                               270 non-null    object \n",
      " 22  list_view.brand                           236 non-null    object \n",
      " 23  list_view.warranty                        236 non-null    float64\n",
      " 24  list_view.screen_size                     233 non-null    object \n",
      " 25  list_view.storage                         236 non-null    object \n",
      " 26  list_view.memory                          236 non-null    object \n",
      " 27  list_view.model                           236 non-null    object \n",
      " 28  list_view.processor_speed                 236 non-null    object \n",
      " 29  list_view.processor_type                  236 non-null    object \n",
      " 30  list_view.storage_type                    236 non-null    object \n",
      " 31  list_view.date_release                    235 non-null    object \n",
      " 32  list_view.keyboard_type_language          234 non-null    object \n",
      " 33  _highlightResult.title.value              270 non-null    object \n",
      " 34  _highlightResult.title.matchLevel         270 non-null    object \n",
      " 35  _highlightResult.title.matchedWords       270 non-null    object \n",
      " 36  _highlightResult.brand.value              270 non-null    object \n",
      " 37  _highlightResult.brand.matchLevel         270 non-null    object \n",
      " 38  _highlightResult.brand.matchedWords       270 non-null    object \n",
      " 39  _highlightResult.category_3.value         270 non-null    object \n",
      " 40  _highlightResult.category_3.matchLevel    270 non-null    object \n",
      " 41  _highlightResult.category_3.matchedWords  270 non-null    object \n",
      " 42  list_view                                 0 non-null      float64\n",
      "dtypes: bool(1), float64(4), int64(5), object(33)\n",
      "memory usage: 91.0+ KB\n"
     ]
    }
   ],
   "source": [
    "df_final.info()"
   ]
  },
  {
   "cell_type": "markdown",
   "metadata": {},
   "source": [
    "Conclusion:\n",
    "    - 270 rows vs 43 columns. Enough data, probably need to drop some columns\n",
    "    - Lots of columns start with the same prefix or contained weird characters \n",
    "    - Data type: boolean, float, integer and object (>75%)\n",
    "    - info(): shows us that there is only one column with all missing data (list_view)"
   ]
  },
  {
   "cell_type": "markdown",
   "metadata": {},
   "source": [
    "## Drop Columns"
   ]
  },
  {
   "cell_type": "code",
   "execution_count": 10,
   "metadata": {},
   "outputs": [],
   "source": [
    "df_final.drop(columns=['_highlightResult.title.matchLevel','compatible_carriers','image1', 'link.type', 'link.name', 'link.params.id', 'link.params.slug',\n",
    "'link.hash.l','_highlightResult.title.matchLevel','_highlightResult.title.matchedWords', '_highlightResult.brand.value',\n",
    "       '_highlightResult.brand.matchLevel',\n",
    "       '_highlightResult.brand.matchedWords',\n",
    "       '_highlightResult.category_3.value',\n",
    "       '_highlightResult.category_3.matchLevel',\n",
    "       '_highlightResult.category_3.matchedWords', 'list_view','is_sim_locked','price_new_with_currency','price_with_currency'],inplace=True)                          \n",
    "\n",
    "                          "
   ]
  },
  {
   "cell_type": "code",
   "execution_count": null,
   "metadata": {},
   "outputs": [],
   "source": []
  },
  {
   "cell_type": "markdown",
   "metadata": {},
   "source": [
    "#  String Operations"
   ]
  },
  {
   "cell_type": "code",
   "execution_count": 11,
   "metadata": {},
   "outputs": [
    {
     "data": {
      "text/plain": [
       "Index(['backmarketid', 'price', 'stockraw', 'pressurestocklimit', 'warranty',\n",
       "       'slug', 'state_value', 'state_label', 'title', 'price_new',\n",
       "       'merchant_slug', 'objectid', 'brand', 'warranty', 'screen_size',\n",
       "       'storage', 'memory', 'model', 'processor_speed', 'processor_type',\n",
       "       'storage_type', 'date_release', 'keyboard_type_language',\n",
       "       'highlightresult_title_value'],\n",
       "      dtype='object')"
      ]
     },
     "execution_count": 11,
     "metadata": {},
     "output_type": "execute_result"
    }
   ],
   "source": [
    "df_final.columns=df_final.columns=df_final.columns.str.lower().str.strip('_ ').str.replace('list_view.','').str.replace(\".\",\"_\")    #lower case all the string\n",
    "df_final.columns"
   ]
  },
  {
   "cell_type": "code",
   "execution_count": 12,
   "metadata": {},
   "outputs": [
    {
     "data": {
      "text/html": [
       "<div>\n",
       "<style scoped>\n",
       "    .dataframe tbody tr th:only-of-type {\n",
       "        vertical-align: middle;\n",
       "    }\n",
       "\n",
       "    .dataframe tbody tr th {\n",
       "        vertical-align: top;\n",
       "    }\n",
       "\n",
       "    .dataframe thead th {\n",
       "        text-align: right;\n",
       "    }\n",
       "</style>\n",
       "<table border=\"1\" class=\"dataframe\">\n",
       "  <thead>\n",
       "    <tr style=\"text-align: right;\">\n",
       "      <th></th>\n",
       "      <th>backmarketid</th>\n",
       "      <th>price</th>\n",
       "      <th>stockraw</th>\n",
       "      <th>pressurestocklimit</th>\n",
       "      <th>warranty</th>\n",
       "      <th>slug</th>\n",
       "      <th>state_value</th>\n",
       "      <th>state_label</th>\n",
       "      <th>title</th>\n",
       "      <th>price_new</th>\n",
       "      <th>...</th>\n",
       "      <th>screen_size</th>\n",
       "      <th>storage</th>\n",
       "      <th>memory</th>\n",
       "      <th>model</th>\n",
       "      <th>processor_speed</th>\n",
       "      <th>processor_type</th>\n",
       "      <th>storage_type</th>\n",
       "      <th>date_release</th>\n",
       "      <th>keyboard_type_language</th>\n",
       "      <th>highlightresult_title_value</th>\n",
       "    </tr>\n",
       "  </thead>\n",
       "  <tbody>\n",
       "    <tr>\n",
       "      <th>0</th>\n",
       "      <td>339245</td>\n",
       "      <td>199.0</td>\n",
       "      <td>31</td>\n",
       "      <td>20</td>\n",
       "      <td>12</td>\n",
       "      <td>dell-latitude-5175-11-core-m5-11-ghz-ssd-128-g...</td>\n",
       "      <td>4</td>\n",
       "      <td>Stallone</td>\n",
       "      <td>Dell Latitude 5175 11\" Core m5 1,1 GHz  - SSD ...</td>\n",
       "      <td>992.0</td>\n",
       "      <td>...</td>\n",
       "      <td>11</td>\n",
       "      <td>128</td>\n",
       "      <td>4</td>\n",
       "      <td>Latitude 5175</td>\n",
       "      <td>1,1</td>\n",
       "      <td>Intel Core m5</td>\n",
       "      <td>SSD</td>\n",
       "      <td>2016</td>\n",
       "      <td></td>\n",
       "      <td>Dell Latitude 5175 11\" Core m5 1,1 GHz  - SSD ...</td>\n",
       "    </tr>\n",
       "    <tr>\n",
       "      <th>1</th>\n",
       "      <td>294844</td>\n",
       "      <td>399.0</td>\n",
       "      <td>4</td>\n",
       "      <td>20</td>\n",
       "      <td>12</td>\n",
       "      <td>hp-elitebook-820-g1-12-core-i5-16-ghz-ssd-128-...</td>\n",
       "      <td>4</td>\n",
       "      <td>Stallone</td>\n",
       "      <td>Hp EliteBook 820 G1 12\" Core i5 1,6 GHz - SSD ...</td>\n",
       "      <td>1350.0</td>\n",
       "      <td>...</td>\n",
       "      <td>12,5</td>\n",
       "      <td>128</td>\n",
       "      <td>8</td>\n",
       "      <td>EliteBook 820 G1</td>\n",
       "      <td>1,6</td>\n",
       "      <td>Intel Core i5</td>\n",
       "      <td>SSD</td>\n",
       "      <td>Juin 2018</td>\n",
       "      <td>AZERTY - Français</td>\n",
       "      <td>Hp EliteBook 820 G1 12\" Core i5 1,6 GHz - SSD ...</td>\n",
       "    </tr>\n",
       "    <tr>\n",
       "      <th>2</th>\n",
       "      <td>287074</td>\n",
       "      <td>900.0</td>\n",
       "      <td>9</td>\n",
       "      <td>20</td>\n",
       "      <td>12</td>\n",
       "      <td>macbook-air-13-mi-2017-core-i7-22-ghz-ssd-256-...</td>\n",
       "      <td>1</td>\n",
       "      <td>Très bon état</td>\n",
       "      <td>MacBook Air 13\" (Mi-2017) - Core i7 2,2 GHz - ...</td>\n",
       "      <td>1469.0</td>\n",
       "      <td>...</td>\n",
       "      <td>13,3</td>\n",
       "      <td>256</td>\n",
       "      <td>8</td>\n",
       "      <td>MacBook Air</td>\n",
       "      <td>2,2</td>\n",
       "      <td>Intel Core i7</td>\n",
       "      <td>SSD</td>\n",
       "      <td>Mi-2017</td>\n",
       "      <td>AZERTY - Français</td>\n",
       "      <td>MacBook Air 13\" (Mi-2017) - Core i7 2,2 GHz - ...</td>\n",
       "    </tr>\n",
       "    <tr>\n",
       "      <th>3</th>\n",
       "      <td>1833</td>\n",
       "      <td>675.0</td>\n",
       "      <td>5</td>\n",
       "      <td>20</td>\n",
       "      <td>12</td>\n",
       "      <td>macbook-pro-13-retina-mi-2014-core-i5-26-ghz-s...</td>\n",
       "      <td>4</td>\n",
       "      <td>Stallone</td>\n",
       "      <td>MacBook Pro 13\" Retina (Mi-2014) - Core i5 2,6...</td>\n",
       "      <td>1750.0</td>\n",
       "      <td>...</td>\n",
       "      <td>13,3</td>\n",
       "      <td>128</td>\n",
       "      <td>8</td>\n",
       "      <td>MacBook Pro</td>\n",
       "      <td>2,6</td>\n",
       "      <td>Intel Core i5</td>\n",
       "      <td>SSD</td>\n",
       "      <td>Mi-2014</td>\n",
       "      <td>AZERTY - Français</td>\n",
       "      <td>MacBook Pro 13\" Retina (Mi-2014) - Core i5 2,6...</td>\n",
       "    </tr>\n",
       "    <tr>\n",
       "      <th>4</th>\n",
       "      <td>27780</td>\n",
       "      <td>893.0</td>\n",
       "      <td>5</td>\n",
       "      <td>20</td>\n",
       "      <td>12</td>\n",
       "      <td>dell-latitude-e7470-14-core-i5-24-ghz-ssd-256-...</td>\n",
       "      <td>4</td>\n",
       "      <td>Stallone</td>\n",
       "      <td>Dell Latitude E7470 14\" Core i5 2,4 GHz  - SSD...</td>\n",
       "      <td>1400.0</td>\n",
       "      <td>...</td>\n",
       "      <td>14</td>\n",
       "      <td>256</td>\n",
       "      <td>16</td>\n",
       "      <td>Latitude E7470</td>\n",
       "      <td>2,4</td>\n",
       "      <td>Intel Core i5</td>\n",
       "      <td>SSD</td>\n",
       "      <td>2017</td>\n",
       "      <td>AZERTY - Français</td>\n",
       "      <td>Dell Latitude E7470 14\" Core i5 2,4 GHz  - SSD...</td>\n",
       "    </tr>\n",
       "  </tbody>\n",
       "</table>\n",
       "<p>5 rows × 24 columns</p>\n",
       "</div>"
      ],
      "text/plain": [
       "   backmarketid  price  stockraw  pressurestocklimit  warranty  \\\n",
       "0        339245  199.0        31                  20        12   \n",
       "1        294844  399.0         4                  20        12   \n",
       "2        287074  900.0         9                  20        12   \n",
       "3          1833  675.0         5                  20        12   \n",
       "4         27780  893.0         5                  20        12   \n",
       "\n",
       "                                                slug  state_value  \\\n",
       "0  dell-latitude-5175-11-core-m5-11-ghz-ssd-128-g...            4   \n",
       "1  hp-elitebook-820-g1-12-core-i5-16-ghz-ssd-128-...            4   \n",
       "2  macbook-air-13-mi-2017-core-i7-22-ghz-ssd-256-...            1   \n",
       "3  macbook-pro-13-retina-mi-2014-core-i5-26-ghz-s...            4   \n",
       "4  dell-latitude-e7470-14-core-i5-24-ghz-ssd-256-...            4   \n",
       "\n",
       "     state_label                                              title  \\\n",
       "0       Stallone  Dell Latitude 5175 11\" Core m5 1,1 GHz  - SSD ...   \n",
       "1       Stallone  Hp EliteBook 820 G1 12\" Core i5 1,6 GHz - SSD ...   \n",
       "2  Très bon état  MacBook Air 13\" (Mi-2017) - Core i7 2,2 GHz - ...   \n",
       "3       Stallone  MacBook Pro 13\" Retina (Mi-2014) - Core i5 2,6...   \n",
       "4       Stallone  Dell Latitude E7470 14\" Core i5 2,4 GHz  - SSD...   \n",
       "\n",
       "   price_new  ... screen_size storage memory             model  \\\n",
       "0      992.0  ...          11     128      4     Latitude 5175   \n",
       "1     1350.0  ...        12,5     128      8  EliteBook 820 G1   \n",
       "2     1469.0  ...        13,3     256      8       MacBook Air   \n",
       "3     1750.0  ...        13,3     128      8       MacBook Pro   \n",
       "4     1400.0  ...          14     256     16    Latitude E7470   \n",
       "\n",
       "  processor_speed processor_type storage_type date_release  \\\n",
       "0             1,1  Intel Core m5          SSD         2016   \n",
       "1             1,6  Intel Core i5          SSD    Juin 2018   \n",
       "2             2,2  Intel Core i7          SSD      Mi-2017   \n",
       "3             2,6  Intel Core i5          SSD      Mi-2014   \n",
       "4             2,4  Intel Core i5          SSD         2017   \n",
       "\n",
       "  keyboard_type_language                        highlightresult_title_value  \n",
       "0                         Dell Latitude 5175 11\" Core m5 1,1 GHz  - SSD ...  \n",
       "1      AZERTY - Français  Hp EliteBook 820 G1 12\" Core i5 1,6 GHz - SSD ...  \n",
       "2      AZERTY - Français  MacBook Air 13\" (Mi-2017) - Core i7 2,2 GHz - ...  \n",
       "3      AZERTY - Français  MacBook Pro 13\" Retina (Mi-2014) - Core i5 2,6...  \n",
       "4      AZERTY - Français  Dell Latitude E7470 14\" Core i5 2,4 GHz  - SSD...  \n",
       "\n",
       "[5 rows x 24 columns]"
      ]
     },
     "execution_count": 12,
     "metadata": {},
     "output_type": "execute_result"
    }
   ],
   "source": [
    "df_final.head()"
   ]
  },
  {
   "cell_type": "markdown",
   "metadata": {},
   "source": [
    "Summary of the cleaning:\n",
    "    - Drop columns with all null values, with 1 unique values on the rows... not relevant to the dataset\n",
    "    - String Operations: remove _ at the beginning of the column name, shorten column name etc."
   ]
  },
  {
   "cell_type": "markdown",
   "metadata": {},
   "source": [
    "# Export file "
   ]
  },
  {
   "cell_type": "code",
   "execution_count": 153,
   "metadata": {},
   "outputs": [],
   "source": [
    "# Export comma-separated variable file\n",
    "df_final.to_csv('df_final.csv', index=False)"
   ]
  },
  {
   "cell_type": "code",
   "execution_count": 13,
   "metadata": {},
   "outputs": [
    {
     "name": "stdout",
     "output_type": "stream",
     "text": [
      "········\n"
     ]
    }
   ],
   "source": [
    "# Export to SQL\n",
    "\n",
    "import pymysql\n",
    "from sqlalchemy import create_engine\n",
    "import getpass\n",
    "\n",
    "\n",
    "username='root'\n",
    "password=getpass.getpass()\n",
    "server='localhost'\n",
    "database='Back Market'\n",
    "\n",
    "\n",
    "engine = create_engine(f'mysql+pymysql://{username}:{password}@{server}/{database}')"
   ]
  },
  {
   "cell_type": "code",
   "execution_count": 14,
   "metadata": {},
   "outputs": [],
   "source": [
    "df_final.to_sql(name='computer',con=engine, if_exists='replace',index=False)"
   ]
  },
  {
   "cell_type": "markdown",
   "metadata": {},
   "source": [
    "## Import from SQL"
   ]
  },
  {
   "cell_type": "code",
   "execution_count": 175,
   "metadata": {},
   "outputs": [],
   "source": [
    "# After importing the CSV in SQL, I want to import from SQL To Python\n",
    "import pymysql\n",
    "from sqlalchemy import create_engine\n",
    "import getpass"
   ]
  },
  {
   "cell_type": "code",
   "execution_count": 176,
   "metadata": {},
   "outputs": [
    {
     "name": "stdout",
     "output_type": "stream",
     "text": [
      "········\n"
     ]
    }
   ],
   "source": [
    "username='root'\n",
    "password=getpass.getpass()\n",
    "server='localhost'\n",
    "database='Back Market'"
   ]
  },
  {
   "cell_type": "code",
   "execution_count": 159,
   "metadata": {},
   "outputs": [],
   "source": [
    "engine = create_engine(f'mysql+pymysql://{username}:{password}@{server}/{database}')"
   ]
  },
  {
   "cell_type": "code",
   "execution_count": 177,
   "metadata": {},
   "outputs": [
    {
     "data": {
      "text/html": [
       "<div>\n",
       "<style scoped>\n",
       "    .dataframe tbody tr th:only-of-type {\n",
       "        vertical-align: middle;\n",
       "    }\n",
       "\n",
       "    .dataframe tbody tr th {\n",
       "        vertical-align: top;\n",
       "    }\n",
       "\n",
       "    .dataframe thead th {\n",
       "        text-align: right;\n",
       "    }\n",
       "</style>\n",
       "<table border=\"1\" class=\"dataframe\">\n",
       "  <thead>\n",
       "    <tr style=\"text-align: right;\">\n",
       "      <th></th>\n",
       "      <th>backmarketid</th>\n",
       "      <th>price</th>\n",
       "      <th>stockraw</th>\n",
       "      <th>pressurestocklimit</th>\n",
       "      <th>warranty</th>\n",
       "      <th>slug</th>\n",
       "      <th>state_value</th>\n",
       "      <th>state_label</th>\n",
       "      <th>title</th>\n",
       "      <th>price_new</th>\n",
       "      <th>...</th>\n",
       "      <th>size</th>\n",
       "      <th>storage</th>\n",
       "      <th>memory</th>\n",
       "      <th>model</th>\n",
       "      <th>processor_speed</th>\n",
       "      <th>processor_type</th>\n",
       "      <th>storage_type</th>\n",
       "      <th>date_release</th>\n",
       "      <th>keyboard_type_language</th>\n",
       "      <th>highlightresult_title_value</th>\n",
       "    </tr>\n",
       "  </thead>\n",
       "  <tbody>\n",
       "    <tr>\n",
       "      <th>0</th>\n",
       "      <td>339245</td>\n",
       "      <td>199.0</td>\n",
       "      <td>31</td>\n",
       "      <td>20</td>\n",
       "      <td>12.0</td>\n",
       "      <td>dell-latitude-5175-11-core-m5-11-ghz-ssd-128-g...</td>\n",
       "      <td>4</td>\n",
       "      <td>Stallone</td>\n",
       "      <td>Dell Latitude 5175 11\" Core m5 1,1 GHz  - SSD ...</td>\n",
       "      <td>992.0</td>\n",
       "      <td>...</td>\n",
       "      <td>11</td>\n",
       "      <td>128</td>\n",
       "      <td>4</td>\n",
       "      <td>Latitude 5175</td>\n",
       "      <td>1,1</td>\n",
       "      <td>Intel Core m5</td>\n",
       "      <td>SSD</td>\n",
       "      <td>2016</td>\n",
       "      <td></td>\n",
       "      <td>Dell Latitude 5175 11\" Core m5 1,1 GHz  - SSD ...</td>\n",
       "    </tr>\n",
       "    <tr>\n",
       "      <th>1</th>\n",
       "      <td>294844</td>\n",
       "      <td>399.0</td>\n",
       "      <td>4</td>\n",
       "      <td>20</td>\n",
       "      <td>12.0</td>\n",
       "      <td>hp-elitebook-820-g1-12-core-i5-16-ghz-ssd-128-...</td>\n",
       "      <td>4</td>\n",
       "      <td>Stallone</td>\n",
       "      <td>Hp EliteBook 820 G1 12\" Core i5 1,6 GHz - SSD ...</td>\n",
       "      <td>1350.0</td>\n",
       "      <td>...</td>\n",
       "      <td>12,5</td>\n",
       "      <td>128</td>\n",
       "      <td>8</td>\n",
       "      <td>EliteBook 820 G1</td>\n",
       "      <td>1,6</td>\n",
       "      <td>Intel Core i5</td>\n",
       "      <td>SSD</td>\n",
       "      <td>Juin 2018</td>\n",
       "      <td>AZERTY - Français</td>\n",
       "      <td>Hp EliteBook 820 G1 12\" Core i5 1,6 GHz - SSD ...</td>\n",
       "    </tr>\n",
       "    <tr>\n",
       "      <th>2</th>\n",
       "      <td>287074</td>\n",
       "      <td>900.0</td>\n",
       "      <td>9</td>\n",
       "      <td>20</td>\n",
       "      <td>12.0</td>\n",
       "      <td>macbook-air-13-mi-2017-core-i7-22-ghz-ssd-256-...</td>\n",
       "      <td>1</td>\n",
       "      <td>Très bon état</td>\n",
       "      <td>MacBook Air 13\" (Mi-2017) - Core i7 2,2 GHz - ...</td>\n",
       "      <td>1469.0</td>\n",
       "      <td>...</td>\n",
       "      <td>13,3</td>\n",
       "      <td>256</td>\n",
       "      <td>8</td>\n",
       "      <td>MacBook Air</td>\n",
       "      <td>2,2</td>\n",
       "      <td>Intel Core i7</td>\n",
       "      <td>SSD</td>\n",
       "      <td>Mi-2017</td>\n",
       "      <td>AZERTY - Français</td>\n",
       "      <td>MacBook Air 13\" (Mi-2017) - Core i7 2,2 GHz - ...</td>\n",
       "    </tr>\n",
       "    <tr>\n",
       "      <th>3</th>\n",
       "      <td>1833</td>\n",
       "      <td>675.0</td>\n",
       "      <td>5</td>\n",
       "      <td>20</td>\n",
       "      <td>12.0</td>\n",
       "      <td>macbook-pro-13-retina-mi-2014-core-i5-26-ghz-s...</td>\n",
       "      <td>4</td>\n",
       "      <td>Stallone</td>\n",
       "      <td>MacBook Pro 13\" Retina (Mi-2014) - Core i5 2,6...</td>\n",
       "      <td>1750.0</td>\n",
       "      <td>...</td>\n",
       "      <td>13,3</td>\n",
       "      <td>128</td>\n",
       "      <td>8</td>\n",
       "      <td>MacBook Pro</td>\n",
       "      <td>2,6</td>\n",
       "      <td>Intel Core i5</td>\n",
       "      <td>SSD</td>\n",
       "      <td>Mi-2014</td>\n",
       "      <td>AZERTY - Français</td>\n",
       "      <td>MacBook Pro 13\" Retina (Mi-2014) - Core i5 2,6...</td>\n",
       "    </tr>\n",
       "    <tr>\n",
       "      <th>4</th>\n",
       "      <td>27780</td>\n",
       "      <td>893.0</td>\n",
       "      <td>5</td>\n",
       "      <td>20</td>\n",
       "      <td>12.0</td>\n",
       "      <td>dell-latitude-e7470-14-core-i5-24-ghz-ssd-256-...</td>\n",
       "      <td>4</td>\n",
       "      <td>Stallone</td>\n",
       "      <td>Dell Latitude E7470 14\" Core i5 2,4 GHz  - SSD...</td>\n",
       "      <td>1400.0</td>\n",
       "      <td>...</td>\n",
       "      <td>14</td>\n",
       "      <td>256</td>\n",
       "      <td>16</td>\n",
       "      <td>Latitude E7470</td>\n",
       "      <td>2,4</td>\n",
       "      <td>Intel Core i5</td>\n",
       "      <td>SSD</td>\n",
       "      <td>2017</td>\n",
       "      <td>AZERTY - Français</td>\n",
       "      <td>Dell Latitude E7470 14\" Core i5 2,4 GHz  - SSD...</td>\n",
       "    </tr>\n",
       "    <tr>\n",
       "      <th>...</th>\n",
       "      <td>...</td>\n",
       "      <td>...</td>\n",
       "      <td>...</td>\n",
       "      <td>...</td>\n",
       "      <td>...</td>\n",
       "      <td>...</td>\n",
       "      <td>...</td>\n",
       "      <td>...</td>\n",
       "      <td>...</td>\n",
       "      <td>...</td>\n",
       "      <td>...</td>\n",
       "      <td>...</td>\n",
       "      <td>...</td>\n",
       "      <td>...</td>\n",
       "      <td>...</td>\n",
       "      <td>...</td>\n",
       "      <td>...</td>\n",
       "      <td>...</td>\n",
       "      <td>...</td>\n",
       "      <td>...</td>\n",
       "      <td>...</td>\n",
       "    </tr>\n",
       "    <tr>\n",
       "      <th>265</th>\n",
       "      <td>13429</td>\n",
       "      <td>892.0</td>\n",
       "      <td>2</td>\n",
       "      <td>20</td>\n",
       "      <td>12.0</td>\n",
       "      <td>imac-21-fin-2015-core-i5-16-ghz-hdd-1-to-8-go-...</td>\n",
       "      <td>1</td>\n",
       "      <td>Très bon état</td>\n",
       "      <td>iMac 21\" (Fin 2015) Core i5 1,6 GHz - HDD 1 To...</td>\n",
       "      <td>1499.0</td>\n",
       "      <td>...</td>\n",
       "      <td>21,5</td>\n",
       "      <td>1000</td>\n",
       "      <td>8</td>\n",
       "      <td>iMac</td>\n",
       "      <td>1,6</td>\n",
       "      <td>Intel Core i5</td>\n",
       "      <td>HDD</td>\n",
       "      <td>Fin 2015</td>\n",
       "      <td>AZERTY - Français</td>\n",
       "      <td>iMac 21\" (Fin 2015) Core i5 1,6 GHz - HDD 1 To...</td>\n",
       "    </tr>\n",
       "    <tr>\n",
       "      <th>266</th>\n",
       "      <td>24287</td>\n",
       "      <td>898.0</td>\n",
       "      <td>1</td>\n",
       "      <td>20</td>\n",
       "      <td>12.0</td>\n",
       "      <td>imac-27-fin-2013-core-i5-32-ghz-hdd-1-to-8-go-...</td>\n",
       "      <td>3</td>\n",
       "      <td>État correct</td>\n",
       "      <td>iMac 27\"   (Fin 2013) Core i5 3,2 GHz  - HDD 1...</td>\n",
       "      <td>2599.0</td>\n",
       "      <td>...</td>\n",
       "      <td>27</td>\n",
       "      <td>1000</td>\n",
       "      <td>8</td>\n",
       "      <td>iMac</td>\n",
       "      <td>3,2</td>\n",
       "      <td>Intel Core i5</td>\n",
       "      <td>HDD</td>\n",
       "      <td>Fin 2013</td>\n",
       "      <td>AZERTY - Français</td>\n",
       "      <td>iMac 27\"   (Fin 2013) Core i5 3,2 GHz  - HDD 1...</td>\n",
       "    </tr>\n",
       "    <tr>\n",
       "      <th>267</th>\n",
       "      <td>341899</td>\n",
       "      <td>999.0</td>\n",
       "      <td>2</td>\n",
       "      <td>20</td>\n",
       "      <td>12.0</td>\n",
       "      <td>macbook-air-13-retina-fin-2018-core-i5-16-ghz-...</td>\n",
       "      <td>3</td>\n",
       "      <td>État correct</td>\n",
       "      <td>Macbook Air 13\" Retina (Fin 2018) - Core i5 1,...</td>\n",
       "      <td>1500.0</td>\n",
       "      <td>...</td>\n",
       "      <td>13,3</td>\n",
       "      <td>128</td>\n",
       "      <td>8</td>\n",
       "      <td>Macbook Air</td>\n",
       "      <td>1,6</td>\n",
       "      <td>Intel Core i5</td>\n",
       "      <td>SSD</td>\n",
       "      <td>Fin 2018</td>\n",
       "      <td>AZERTY - Français</td>\n",
       "      <td>Macbook Air 13\" Retina (Fin 2018) - Core i5 1,...</td>\n",
       "    </tr>\n",
       "    <tr>\n",
       "      <th>268</th>\n",
       "      <td>18367</td>\n",
       "      <td>1009.0</td>\n",
       "      <td>3</td>\n",
       "      <td>20</td>\n",
       "      <td>12.0</td>\n",
       "      <td>macbook-pro-13-retina-debut-2015-core-i7-31-gh...</td>\n",
       "      <td>4</td>\n",
       "      <td>Stallone</td>\n",
       "      <td>MacBook Pro 13\" Retina (Début 2015) - Core i7 ...</td>\n",
       "      <td>2289.0</td>\n",
       "      <td>...</td>\n",
       "      <td>13,3</td>\n",
       "      <td>256</td>\n",
       "      <td>16</td>\n",
       "      <td>MacBook Pro</td>\n",
       "      <td>3,1</td>\n",
       "      <td>Intel Core i7</td>\n",
       "      <td>SSD</td>\n",
       "      <td>Début 2015</td>\n",
       "      <td>AZERTY - Français</td>\n",
       "      <td>MacBook Pro 13\" Retina (Début 2015) - Core i7 ...</td>\n",
       "    </tr>\n",
       "    <tr>\n",
       "      <th>269</th>\n",
       "      <td>381333</td>\n",
       "      <td>1060.0</td>\n",
       "      <td>30</td>\n",
       "      <td>20</td>\n",
       "      <td>12.0</td>\n",
       "      <td>lenovo-thinkpad-p50-15-core-i7-27-ghz-ssd-256-...</td>\n",
       "      <td>1</td>\n",
       "      <td>Très bon état</td>\n",
       "      <td>Lenovo ThinkPad P50 15\" Core i7 2,7 GHz  - SSD...</td>\n",
       "      <td>1750.0</td>\n",
       "      <td>...</td>\n",
       "      <td>15,6</td>\n",
       "      <td>256</td>\n",
       "      <td>32</td>\n",
       "      <td>ThinkPad P50</td>\n",
       "      <td>2,7</td>\n",
       "      <td>Intel Core i7</td>\n",
       "      <td>SSD</td>\n",
       "      <td>Février 2016</td>\n",
       "      <td>AZERTY - Français</td>\n",
       "      <td>Lenovo ThinkPad P50 15\" Core i7 2,7 GHz  - SSD...</td>\n",
       "    </tr>\n",
       "  </tbody>\n",
       "</table>\n",
       "<p>270 rows × 23 columns</p>\n",
       "</div>"
      ],
      "text/plain": [
       "     backmarketid   price  stockraw  pressurestocklimit  warranty  \\\n",
       "0          339245   199.0        31                  20      12.0   \n",
       "1          294844   399.0         4                  20      12.0   \n",
       "2          287074   900.0         9                  20      12.0   \n",
       "3            1833   675.0         5                  20      12.0   \n",
       "4           27780   893.0         5                  20      12.0   \n",
       "..            ...     ...       ...                 ...       ...   \n",
       "265         13429   892.0         2                  20      12.0   \n",
       "266         24287   898.0         1                  20      12.0   \n",
       "267        341899   999.0         2                  20      12.0   \n",
       "268         18367  1009.0         3                  20      12.0   \n",
       "269        381333  1060.0        30                  20      12.0   \n",
       "\n",
       "                                                  slug  state_value  \\\n",
       "0    dell-latitude-5175-11-core-m5-11-ghz-ssd-128-g...            4   \n",
       "1    hp-elitebook-820-g1-12-core-i5-16-ghz-ssd-128-...            4   \n",
       "2    macbook-air-13-mi-2017-core-i7-22-ghz-ssd-256-...            1   \n",
       "3    macbook-pro-13-retina-mi-2014-core-i5-26-ghz-s...            4   \n",
       "4    dell-latitude-e7470-14-core-i5-24-ghz-ssd-256-...            4   \n",
       "..                                                 ...          ...   \n",
       "265  imac-21-fin-2015-core-i5-16-ghz-hdd-1-to-8-go-...            1   \n",
       "266  imac-27-fin-2013-core-i5-32-ghz-hdd-1-to-8-go-...            3   \n",
       "267  macbook-air-13-retina-fin-2018-core-i5-16-ghz-...            3   \n",
       "268  macbook-pro-13-retina-debut-2015-core-i7-31-gh...            4   \n",
       "269  lenovo-thinkpad-p50-15-core-i7-27-ghz-ssd-256-...            1   \n",
       "\n",
       "       state_label                                              title  \\\n",
       "0         Stallone  Dell Latitude 5175 11\" Core m5 1,1 GHz  - SSD ...   \n",
       "1         Stallone  Hp EliteBook 820 G1 12\" Core i5 1,6 GHz - SSD ...   \n",
       "2    Très bon état  MacBook Air 13\" (Mi-2017) - Core i7 2,2 GHz - ...   \n",
       "3         Stallone  MacBook Pro 13\" Retina (Mi-2014) - Core i5 2,6...   \n",
       "4         Stallone  Dell Latitude E7470 14\" Core i5 2,4 GHz  - SSD...   \n",
       "..             ...                                                ...   \n",
       "265  Très bon état  iMac 21\" (Fin 2015) Core i5 1,6 GHz - HDD 1 To...   \n",
       "266   État correct  iMac 27\"   (Fin 2013) Core i5 3,2 GHz  - HDD 1...   \n",
       "267   État correct  Macbook Air 13\" Retina (Fin 2018) - Core i5 1,...   \n",
       "268       Stallone  MacBook Pro 13\" Retina (Début 2015) - Core i7 ...   \n",
       "269  Très bon état  Lenovo ThinkPad P50 15\" Core i7 2,7 GHz  - SSD...   \n",
       "\n",
       "     price_new  ...  size storage memory             model processor_speed  \\\n",
       "0        992.0  ...    11     128      4     Latitude 5175             1,1   \n",
       "1       1350.0  ...  12,5     128      8  EliteBook 820 G1             1,6   \n",
       "2       1469.0  ...  13,3     256      8       MacBook Air             2,2   \n",
       "3       1750.0  ...  13,3     128      8       MacBook Pro             2,6   \n",
       "4       1400.0  ...    14     256     16    Latitude E7470             2,4   \n",
       "..         ...  ...   ...     ...    ...               ...             ...   \n",
       "265     1499.0  ...  21,5    1000      8              iMac             1,6   \n",
       "266     2599.0  ...    27    1000      8              iMac             3,2   \n",
       "267     1500.0  ...  13,3     128      8       Macbook Air             1,6   \n",
       "268     2289.0  ...  13,3     256     16       MacBook Pro             3,1   \n",
       "269     1750.0  ...  15,6     256     32      ThinkPad P50             2,7   \n",
       "\n",
       "    processor_type storage_type  date_release keyboard_type_language  \\\n",
       "0    Intel Core m5          SSD          2016                          \n",
       "1    Intel Core i5          SSD     Juin 2018      AZERTY - Français   \n",
       "2    Intel Core i7          SSD       Mi-2017      AZERTY - Français   \n",
       "3    Intel Core i5          SSD       Mi-2014      AZERTY - Français   \n",
       "4    Intel Core i5          SSD          2017      AZERTY - Français   \n",
       "..             ...          ...           ...                    ...   \n",
       "265  Intel Core i5          HDD      Fin 2015      AZERTY - Français   \n",
       "266  Intel Core i5          HDD      Fin 2013      AZERTY - Français   \n",
       "267  Intel Core i5          SSD      Fin 2018      AZERTY - Français   \n",
       "268  Intel Core i7          SSD    Début 2015      AZERTY - Français   \n",
       "269  Intel Core i7          SSD  Février 2016      AZERTY - Français   \n",
       "\n",
       "                           highlightresult_title_value  \n",
       "0    Dell Latitude 5175 11\" Core m5 1,1 GHz  - SSD ...  \n",
       "1    Hp EliteBook 820 G1 12\" Core i5 1,6 GHz - SSD ...  \n",
       "2    MacBook Air 13\" (Mi-2017) - Core i7 2,2 GHz - ...  \n",
       "3    MacBook Pro 13\" Retina (Mi-2014) - Core i5 2,6...  \n",
       "4    Dell Latitude E7470 14\" Core i5 2,4 GHz  - SSD...  \n",
       "..                                                 ...  \n",
       "265  iMac 21\" (Fin 2015) Core i5 1,6 GHz - HDD 1 To...  \n",
       "266  iMac 27\"   (Fin 2013) Core i5 3,2 GHz  - HDD 1...  \n",
       "267  Macbook Air 13\" Retina (Fin 2018) - Core i5 1,...  \n",
       "268  MacBook Pro 13\" Retina (Début 2015) - Core i7 ...  \n",
       "269  Lenovo ThinkPad P50 15\" Core i7 2,7 GHz  - SSD...  \n",
       "\n",
       "[270 rows x 23 columns]"
      ]
     },
     "execution_count": 177,
     "metadata": {},
     "output_type": "execute_result"
    }
   ],
   "source": [
    "data_2 = pd.read_sql_query('SELECT * FROM back_market.df_final', engine)\n",
    "data_2"
   ]
  },
  {
   "cell_type": "code",
   "execution_count": null,
   "metadata": {},
   "outputs": [],
   "source": []
  }
 ],
 "metadata": {
  "kernelspec": {
   "display_name": "Python 3",
   "language": "python",
   "name": "python3"
  },
  "language_info": {
   "codemirror_mode": {
    "name": "ipython",
    "version": 3
   },
   "file_extension": ".py",
   "mimetype": "text/x-python",
   "name": "python",
   "nbconvert_exporter": "python",
   "pygments_lexer": "ipython3",
   "version": "3.8.3"
  }
 },
 "nbformat": 4,
 "nbformat_minor": 4
}
